{
 "cells": [
  {
   "cell_type": "code",
   "execution_count": 1,
   "metadata": {},
   "outputs": [],
   "source": [
    "import numpy as np\n",
    "import matplotlib.pyplot as plt\n",
    "import time\n",
    "from utils.evaluator import Evaluator\n",
    "\n",
    "peak_detector = Evaluator()"
   ]
  },
  {
   "cell_type": "code",
   "execution_count": 2,
   "metadata": {},
   "outputs": [],
   "source": [
    "### Select database\n",
    "# test_database = 'MIT_BIH'\n",
    "# test_database = 'INCART'\n",
    "# test_database = 'QTDB'\n",
    "test_database = 'MIT_BIH_ST'\n",
    "# test_database = 'European_ST_T'\n",
    "# test_database = 'TELE'\n",
    "\n",
    "'''\n",
    "The current model was developed by training MIT_BIH, INCART, and QT databases.\n",
    "If you test these databases, you will see the performance in the training set.\n",
    "Cross-database testing is available when you test MIT_BIH_ST, European_ST_T, and TELE databases.\n",
    "'''"
   ]
  },
  {
   "cell_type": "code",
   "execution_count": 3,
   "metadata": {},
   "outputs": [
    {
     "name": "stdout",
     "output_type": "stream",
     "text": [
      "Database ... MIT_BIH_ST\n",
      "... Processing  1 / 28\n",
      "... Processing  2 / 28\n",
      "... Processing  3 / 28\n",
      "... Processing  4 / 28\n",
      "... Processing  5 / 28\n",
      "... Processing  6 / 28\n",
      "... Processing  7 / 28\n",
      "... Processing  8 / 28\n",
      "... Processing  9 / 28\n",
      "... Processing  10 / 28\n",
      "... Processing  11 / 28\n",
      "... Processing  12 / 28\n",
      "... Processing  13 / 28\n",
      "... Processing  14 / 28\n",
      "... Processing  15 / 28\n",
      "... Processing  16 / 28\n",
      "... Processing  17 / 28\n",
      "... Processing  18 / 28\n",
      "... Processing  19 / 28\n",
      "... Processing  20 / 28\n",
      "... Processing  21 / 28\n",
      "... Processing  22 / 28\n",
      "... Processing  23 / 28\n",
      "... Processing  24 / 28\n",
      "... Processing  25 / 28\n",
      "... Processing  26 / 28\n",
      "... Processing  27 / 28\n",
      "... Processing  28 / 28\n",
      "... Predicting  1 / 28\n",
      "... Predicting  2 / 28\n",
      "... Predicting  3 / 28\n",
      "... Predicting  4 / 28\n",
      "... Predicting  5 / 28\n",
      "... Predicting  6 / 28\n",
      "... Predicting  7 / 28\n",
      "... Predicting  8 / 28\n",
      "... Predicting  9 / 28\n",
      "... Predicting  10 / 28\n",
      "... Predicting  11 / 28\n",
      "... Predicting  12 / 28\n",
      "... Predicting  13 / 28\n",
      "... Predicting  14 / 28\n",
      "... Predicting  15 / 28\n",
      "... Predicting  16 / 28\n",
      "... Predicting  17 / 28\n",
      "... Predicting  18 / 28\n",
      "... Predicting  19 / 28\n",
      "... Predicting  20 / 28\n",
      "... Predicting  21 / 28\n",
      "... Predicting  22 / 28\n",
      "... Predicting  23 / 28\n",
      "... Predicting  24 / 28\n",
      "... Predicting  25 / 28\n",
      "... Predicting  26 / 28\n",
      "... Predicting  27 / 28\n",
      "... Predicting  28 / 28\n",
      "Average elapsed time : 1.51\n"
     ]
    }
   ],
   "source": [
    "### Run peak detection pipeline\n",
    "print('Database ... {0}'.format(test_database))\n",
    "start = time.time()\n",
    "peak_detector.load(test_database)\n",
    "peak_detector.find_peaks()\n",
    "end = time.time()\n",
    "elapsed = end-start\n",
    "average_cost = elapsed/len(peak_detector.db_loading.metadata_patient)\n",
    "print('Average elapsed time : {0:.2f}'.format(average_cost))"
   ]
  },
  {
   "cell_type": "code",
   "execution_count": 4,
   "metadata": {},
   "outputs": [
    {
     "name": "stdout",
     "output_type": "stream",
     "text": [
      "Summary of model performance\n",
      "            TP    FP    FN  sensitivity     PPV      F1\n",
      "300     2558.0   0.0   0.0       1.0000  1.0000  1.0000\n",
      "301     2497.0   2.0   0.0       1.0000  0.9992  0.9996\n",
      "302     2113.0   4.0   0.0       1.0000  0.9981  0.9991\n",
      "303     3005.0   0.0   0.0       1.0000  1.0000  1.0000\n",
      "304     1852.0   0.0   0.0       1.0000  1.0000  1.0000\n",
      "305     1018.0   7.0  18.0       0.9826  0.9932  0.9879\n",
      "306     6527.0   0.0   0.0       1.0000  1.0000  1.0000\n",
      "307     2468.0   6.0   1.0       0.9996  0.9976  0.9986\n",
      "308     2298.0   3.0   1.0       0.9996  0.9987  0.9991\n",
      "309     5149.0   1.0   0.0       1.0000  0.9998  0.9999\n",
      "310     2410.0   0.0   0.0       1.0000  1.0000  1.0000\n",
      "311     3009.0   1.0   0.0       1.0000  0.9997  0.9998\n",
      "312     2333.0   0.0   7.0       0.9970  1.0000  0.9985\n",
      "313     2700.0   0.0   1.0       0.9996  1.0000  0.9998\n",
      "314     2121.0   2.0   0.0       1.0000  0.9991  0.9995\n",
      "315     3270.0   0.0   4.0       0.9988  1.0000  0.9994\n",
      "316     3351.0   0.0   0.0       1.0000  1.0000  1.0000\n",
      "317     2774.0   1.0   2.0       0.9993  0.9996  0.9995\n",
      "318     3530.0   1.0   1.0       0.9997  0.9997  0.9997\n",
      "319     2550.0   8.0   9.0       0.9965  0.9969  0.9967\n",
      "320     3135.0   0.0   0.0       1.0000  1.0000  1.0000\n",
      "321     2115.0   0.0   0.0       1.0000  1.0000  1.0000\n",
      "322     1508.0   0.0   0.0       1.0000  1.0000  1.0000\n",
      "323     5290.0   1.0   0.0       1.0000  0.9998  0.9999\n",
      "324     1740.0   1.0   0.0       1.0000  0.9994  0.9997\n",
      "325     1465.0   0.0   0.0       1.0000  1.0000  1.0000\n",
      "326     2075.0   1.0   0.0       1.0000  0.9995  0.9998\n",
      "327     1270.0   0.0   0.0       1.0000  1.0000  1.0000\n",
      "Total  76131.0  39.0  44.0       0.9994  0.9995  0.9995\n"
     ]
    }
   ],
   "source": [
    "### Summary of model performance\n",
    "table_summary = peak_detector.report_all()\n",
    "table_summary.loc[table_summary.shape[0],:] = peak_detector.report_summary()\n",
    "table_summary.index = peak_detector.db_loading.metadata_patient + ['Total']\n",
    "table_summary = table_summary.round(decimals=4)\n",
    "\n",
    "print('Summary of model performance')\n",
    "print(table_summary)"
   ]
  },
  {
   "cell_type": "code",
   "execution_count": 5,
   "metadata": {},
   "outputs": [
    {
     "data": {
      "image/png": "[encoded data removed]",
      "text/plain": [
       "<Figure size 432x288 with 1 Axes>"
      ]
     },
     "metadata": {
      "needs_background": "light"
     },
     "output_type": "display_data"
    }
   ],
   "source": [
    "### Visualize a specific ECGs\n",
    "t_idx = 8\n",
    "t_patient = table_summary.index[t_idx]\n",
    "t_ecg = peak_detector.set_dict['ecg'][t_idx]\n",
    "t_label = peak_detector.set_dict['label'][t_idx]\n",
    "t_pred_TP = peak_detector.set_dict['pred_TP'][t_idx]\n",
    "t_pred_FP = peak_detector.set_dict['pred_FP'][t_idx]\n",
    "t_pred_FN = peak_detector.set_dict['pred_FN'][t_idx]\n",
    "t_xtick = np.arange(t_ecg.shape[0])/360\n",
    "\n",
    "plt.plot(t_xtick, t_ecg, color='black')\n",
    "plt.plot(t_xtick[t_pred_TP], [t_ecg[x] for x in t_pred_TP], 'o', color='green')\n",
    "plt.plot(t_xtick[t_pred_FP], [t_ecg[x] for x in t_pred_FP], '*', color='red')\n",
    "plt.plot(t_xtick[t_pred_FN], [t_ecg[x] for x in t_pred_FN], '*', color='blue')\n",
    "plt.title('Database {}, Patient {} ... TP {} / FP {} / FN {}'.format(test_database, t_patient, len(t_pred_TP), len(t_pred_FP), len(t_pred_FN)))\n",
    "plt.xlabel('Time (s)')\n",
    "plt.ylabel('Voltage (mV)')\n",
    "plt.show()"
   ]
  }
 ],
 "metadata": {
  "interpreter": {
   "hash": "c5d87d075de6c8cd54fc42313e50c5ecda157536ec0a33a19435a85767f464c2"
  },
  "kernelspec": {
   "display_name": "Python 3.9.7 ('pytorch_1.8.2')",
   "language": "python",
   "name": "python3"
  },
  "language_info": {
   "codemirror_mode": {
    "name": "ipython",
    "version": 3
   },
   "file_extension": ".py",
   "mimetype": "text/x-python",
   "name": "python",
   "nbconvert_exporter": "python",
   "pygments_lexer": "ipython3",
   "version": "3.9.7"
  },
  "orig_nbformat": 4
 },
 "nbformat": 4,
 "nbformat_minor": 2
}
